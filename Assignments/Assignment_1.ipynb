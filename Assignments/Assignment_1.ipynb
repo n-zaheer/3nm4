{
  "cells": [
    {
      "cell_type": "markdown",
      "metadata": {
        "id": "view-in-github",
        "colab_type": "text"
      },
      "source": [
        "<a href=\"https://colab.research.google.com/github/n-zaheer/3nm4/blob/main/Assignments/Assignment_1.ipynb\" target=\"_parent\"><img src=\"https://colab.research.google.com/assets/colab-badge.svg\" alt=\"Open In Colab\"/></a>"
      ]
    },
    {
      "cell_type": "markdown",
      "metadata": {
        "id": "XY9jOMu9oH0x"
      },
      "source": [
        "# Assignment 1\n",
        "\n",
        "Due end of day Thursday Sept 18th."
      ]
    },
    {
      "cell_type": "markdown",
      "metadata": {
        "id": "_8O2j2E3oM0Z"
      },
      "source": [
        "## Question 1:\n",
        "{method, implementation, answer}\n",
        "\n",
        "Examine the value of sparse matricies by comparing the approximate computational efficiencies of sparse and dense solvers (on the same system). Use the %timeit function to approximate the complexity.\n",
        "\n",
        "HINT: Refer to the lecture notes on how to generate, store, and apply sparse solvers.  "
      ]
    },
    {
      "cell_type": "code",
      "source": [
        "#Code taken from the textbook!\n",
        "\n",
        "import numpy as np\n",
        "from scipy.sparse import diags\n",
        "from scipy.sparse.linalg import spsolve\n",
        "from scipy.linalg import solve\n",
        "\n",
        "#Generate a random sparse matrix\n",
        "n = 200\n",
        "\n",
        "main_diag = np.full(n, 2)\n",
        "upper_diag = np.full(n - 1, -1)\n",
        "lower_diag = np.full(n - 1, -1)\n",
        "A_sparse = diags([lower_diag, main_diag, upper_diag], offsets=[-1, 0, 1], format='csr')\n",
        "\n",
        "# row_ind = np.arange(n)\n",
        "# col_ind = np.arange(n)\n",
        "# data = np.random.rand(n)\n",
        "# A_sparse = csr_matrix((data, (row_ind, col_ind)), shape=(n, n))\n",
        "\n",
        "#Generate a random right-hand side vector\n",
        "b = np.random.rand(n)\n",
        "\n",
        "#Solve the sparse system\n",
        "%timeit x_sparse = spsolve(A_sparse, b)\n",
        "#print(\"Solution using sparse solver:\\n\", x_sparse, \"\\n\")\n",
        "\n",
        "#Convert the sparse matrix to a dense matrix\n",
        "A_dense = A_sparse.toarray()\n",
        "\n",
        "#Solve the dense system\n",
        "\n",
        "%timeit x_dense = solve(A_dense, b)\n",
        "#print(\"Solution using dense solver:\\n\", x_dense)"
      ],
      "metadata": {
        "colab": {
          "base_uri": "https://localhost:8080/"
        },
        "id": "I7J_t8ivsUOH",
        "outputId": "5547a293-5ece-4350-aea1-4c7b04d28613"
      },
      "execution_count": null,
      "outputs": [
        {
          "output_type": "stream",
          "name": "stdout",
          "text": [
            "117 µs ± 46.8 µs per loop (mean ± std. dev. of 7 runs, 10000 loops each)\n",
            "112 µs ± 13.5 µs per loop (mean ± std. dev. of 7 runs, 10000 loops each)\n"
          ]
        }
      ]
    },
    {
      "cell_type": "markdown",
      "metadata": {
        "id": "Eyyj6js9TS7g"
      },
      "source": [
        "## Question 2\n",
        "\n",
        "Consider the truss:\n",
        "\n",
        "![image.png](data:image/png;base64,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)\n"
      ]
    },
    {
      "cell_type": "markdown",
      "metadata": {
        "id": "QcdY0wACTwcN"
      },
      "source": [
        "### 2a) Write the linear system for the tensions $P_i$ as equations and in matrix form\n",
        "{answer}"
      ]
    },
    {
      "cell_type": "code",
      "source": [
        "import numpy as np\n",
        "\n",
        "#Left, Bottom is negative orientation\n",
        "#Right, Top is positive orientation\n",
        "\n",
        "# Top Middle Joint (A)\n",
        "  #Fx = 0 = -P6 + P5*cos(45)\n",
        "  #Fy = 0 = -P4 - P5*sin(45)\n",
        "\n",
        "# Bottom Middle Joint (B)\n",
        "  #Fx = 0 = -P2 - P3*cos(45)\n",
        "  #Fy = 0 = -18 + P4 + P3*sin(45)\n",
        "\n",
        "# Bottom Right Joint (C)\n",
        "  #Fx = 0 = -P2 - P5*cos(45)\n",
        "  #Fy = 0 = -12 + P5*sin(45)\n",
        "\n",
        "# Matrix A:\n",
        "# Row 1: [0, 0, 0, 0, np.cos(np.deg2rad(45)),-1]\n",
        "# Row 2: [0, 0, 0, -1, -np.sin(np.deg2rad(45)),0]\n",
        "# Row 3: [-1, 1, -np.cos(np.deg2rad(45)), 0, 0, 0]\n",
        "# Row 4: [0, 0, np.sin(np.deg2rad(45)), 1, 0, 0]\n",
        "# Row 5: [0, -1, 0, 0, -np.cos(np.deg2rad(45)),0]\n",
        "# Row 6: [0, 0, 0, 0, np.sin(np.deg2rad(45)),0]\n",
        "\n",
        "# Vector b:\n",
        "# b = [0, 0, 0, 18, 0, 12]\n",
        "\n",
        "A = np.array([\n",
        "    [0, 0, 0, 0, np.cos(np.deg2rad(45)),-1],\n",
        "    [0, 0, 0, -1, -np.sin(np.deg2rad(45)),0],\n",
        "    [-1, 1, -np.cos(np.deg2rad(45)), 0, 0, 0],\n",
        "    [0, 0, np.sin(np.deg2rad(45)), 1, 0, 0],\n",
        "    [0, -1, 0, 0, -np.cos(np.deg2rad(45)),0],\n",
        "     [0, 0, 0, 0, np.sin(np.deg2rad(45)),0]\n",
        "], dtype=float)\n",
        "\n",
        "b = np.array([0, 0, 0, 18, 0, 12], dtype=float)\n",
        "\n",
        "print(\"Matrix A:\\n\", A)\n",
        "print(\"\\nVector b:\\n\", b)"
      ],
      "metadata": {
        "colab": {
          "base_uri": "https://localhost:8080/"
        },
        "id": "Hw_ygBwVN2Ph",
        "outputId": "d2463396-35ba-47ba-fbc0-e13e3ca3cedf"
      },
      "execution_count": 6,
      "outputs": [
        {
          "output_type": "stream",
          "name": "stdout",
          "text": [
            "Matrix A:\n",
            " [[ 0.          0.          0.          0.          0.70710678 -1.        ]\n",
            " [ 0.          0.          0.         -1.         -0.70710678  0.        ]\n",
            " [-1.          1.         -0.70710678  0.          0.          0.        ]\n",
            " [ 0.          0.          0.70710678  1.          0.          0.        ]\n",
            " [ 0.         -1.          0.          0.         -0.70710678  0.        ]\n",
            " [ 0.          0.          0.          0.          0.70710678  0.        ]]\n",
            "\n",
            "Vector b:\n",
            " [ 0.  0.  0. 18.  0. 12.]\n"
          ]
        }
      ]
    },
    {
      "cell_type": "markdown",
      "metadata": {
        "id": "O7_OZCNFT04n"
      },
      "source": [
        "### 2b) Solve for $P_i$ using LU decomposition and substitution.\n",
        "{method, answer}"
      ]
    },
    {
      "cell_type": "code",
      "source": [
        "import numpy as np\n",
        "from scipy.linalg import lu_factor, lu_solve\n",
        "\n",
        "#Define the matrix A and vector b from the previous step\n",
        "\n",
        "#Perform LU decomposition\n",
        "lu, piv = lu_factor(A)\n",
        "\n",
        "#Solve the system using LU substitution\n",
        "P = lu_solve((lu, piv), b)\n",
        "\n",
        "print(\"Solution for tensions P_i using LU decomposition:\")\n",
        "print(\"P =\", P)"
      ],
      "metadata": {
        "colab": {
          "base_uri": "https://localhost:8080/"
        },
        "id": "Eoo1Zns2pbpa",
        "outputId": "d1dd8150-0d85-4d09-8a9a-d7366681c755"
      },
      "execution_count": 7,
      "outputs": [
        {
          "output_type": "stream",
          "name": "stdout",
          "text": [
            "Solution for tensions P_i using LU decomposition:\n",
            "P = [-42.         -12.          42.42640687 -12.          16.97056275\n",
            "  12.        ]\n"
          ]
        }
      ]
    },
    {
      "cell_type": "markdown",
      "metadata": {
        "id": "F1QiWtJPUq6e"
      },
      "source": [
        "### 2c)  Double the loads (18 kN and 12 kN) and solve for $P_i$ again *without refactoring*.\n",
        "{answer}"
      ]
    },
    {
      "cell_type": "code",
      "metadata": {
        "colab": {
          "base_uri": "https://localhost:8080/"
        },
        "id": "0685a0a1",
        "outputId": "1921a885-6240-4793-a92c-3b3e8f64700c"
      },
      "source": [
        "#Double the loads in the vector b\n",
        "b_doubled = b * 2\n",
        "\n",
        "#Solve the system with the doubled loads using the existing LU factors\n",
        "P_doubled = lu_solve((lu, piv), b_doubled)\n",
        "\n",
        "print(\"Solution for tensions P_i with doubled loads:\")\n",
        "print(\"P =\", P_doubled)"
      ],
      "execution_count": 8,
      "outputs": [
        {
          "output_type": "stream",
          "name": "stdout",
          "text": [
            "Solution for tensions P_i with doubled loads:\n",
            "P = [-84.         -24.          84.85281374 -24.          33.9411255\n",
            "  24.        ]\n"
          ]
        }
      ]
    },
    {
      "cell_type": "markdown",
      "metadata": {
        "id": "bn1Z6f05VNNI"
      },
      "source": [
        "## Question 3\n",
        "\n",
        "Consider the matrix:\n",
        "\n",
        "$$ A = \\begin{bmatrix} 1 & 2 \\\\ 3 & 4 \\end{bmatrix}$$"
      ]
    },
    {
      "cell_type": "markdown",
      "metadata": {
        "id": "B0mIIg2XXh-X"
      },
      "source": [
        "## 3a) Calculate the condition number of A\n",
        "{answer}"
      ]
    },
    {
      "cell_type": "code",
      "metadata": {
        "colab": {
          "base_uri": "https://localhost:8080/"
        },
        "id": "d4d5e97e",
        "outputId": "e221f08c-96bc-42fc-a476-90f5f326d2ff"
      },
      "source": [
        "import numpy as np\n",
        "\n",
        "A = np.array([[1, 2],\n",
        "              [3, 4]])\n",
        "\n",
        "# Calculate the condition number of A\n",
        "cond_A = np.linalg.cond(A)\n",
        "\n",
        "print(\"Condition number of matrix A:\")\n",
        "print(f\"cond(A) = {cond_A}\")"
      ],
      "execution_count": null,
      "outputs": [
        {
          "output_type": "stream",
          "name": "stdout",
          "text": [
            "Condition number of matrix A:\n",
            "cond(A) = 14.933034373659268\n"
          ]
        }
      ]
    },
    {
      "cell_type": "markdown",
      "metadata": {
        "id": "uounfmQUb5fH"
      },
      "source": [
        "## 3b) Let's use a preconditioner matrix $P$ to improve the condition number of the product $P^{-1} A$. Give 2 examples of $P$ that improve the condition number.\n",
        "\n",
        "Can you identify the 'perfect' preconditioner? (Consider the easiest matrix to solve!)\n",
        "{answer, answer}"
      ]
    },
    {
      "cell_type": "markdown",
      "metadata": {
        "id": "74c33f39"
      },
      "source": [
        "For Question 3b, we explore using preconditioners to improve the condition number of a matrix $A$. A preconditioner $P$ is a matrix used to transform the linear system $A\\mathbf{x} = \\mathbf{b}$ into an equivalent system $(P^{-1}A)\\mathbf{x} = P^{-1}\\mathbf{b}$ that has a better-conditioned matrix $P^{-1}A$. A lower condition number indicates that the matrix is less sensitive to numerical errors during solving.\n",
        "\n",
        "Here are two examples of preconditioners and their effect on the condition number of $P^{-1}A$:\n",
        "\n",
        "1.  **Diagonal Preconditioner (Jacobi Preconditioner):** This is one of the simplest preconditioners, where $P$ is a diagonal matrix containing the diagonal elements of $A$. This works well when the diagonal elements are much larger than the off-diagonal elements. As shown in the code, using the diagonal of $A$ as the preconditioner $P_1$ reduces the condition number from approximately 14.933 to 13.048.\n",
        "\n",
        "2.  **Scaling Preconditioner:** Another simple approach is to scale the rows or columns of the matrix. A common scaling preconditioner involves dividing each row by the absolute value of the largest element in that row.\n",
        "\n",
        "The 'perfect' preconditioner is a matrix $P$ such that $P^{-1}A$ is the identity matrix, which has a condition number of 1. This occurs when $P = A$. In this case, the system becomes $I\\mathbf{x} = A^{-1}\\mathbf{b}$, which is equivalent to the original system but with the best possible condition number. However, using $P=A$ requires computing the inverse of $A$, which is generally as computationally expensive as solving the original system, so it's not a practical preconditioner for large systems. The goal of preconditioning in practice is to find a matrix $P$ that is easily invertible and makes $P^{-1}A$ significantly better conditioned than $A$.\n",
        "\n",
        "The code cell above demonstrates the condition number of $A$, and the condition number of $P^{-1}A$ using the diagonal preconditioner. It also shows the theoretical 'perfect' preconditioner where $P=A$, resulting in a condition number of 1."
      ]
    },
    {
      "cell_type": "code",
      "source": [
        "import numpy as np\n",
        "\n",
        "A = np.array([[1, 2],\n",
        "              [3, 4]])\n",
        "\n",
        "# Condition number of A\n",
        "cond_A = np.linalg.cond(A)\n",
        "\n",
        "# Preconditioner 1: Diagonal of A (Jacobi preconditioner)\n",
        "P1 = np.diag(np.diag(A))\n",
        "cond_P1A = np.linalg.cond(np.linalg.inv(P1) @ A)\n",
        "\n",
        "# Preconditioner 2: Scaling preconditioner (scale by max absolute value)\n",
        "P2 = np.eye(A.shape[0]) * np.max(np.abs(A))\n",
        "cond_P2A = np.linalg.cond(np.linalg.inv(P2) @ A)\n",
        "\n",
        "# Preconditioner 3: Inverse of A (The perfect preconditioner)\n",
        "# Note: In practice, we don't compute the inverse of A for preconditioning, as it's as hard as solving the original system.\n",
        "# This is for demonstration of the concept of a perfect preconditioner.\n",
        "P3 = A\n",
        "cond_P3A = np.linalg.cond(np.linalg.inv(P3) @ A)\n",
        "\n",
        "\n",
        "print(\"Q3: Condition numbers\")\n",
        "print(f\"cond(A) = {cond_A:.5f}\")\n",
        "print(f\"cond(P1^-1 A) with diagonal preconditioner = {cond_P1A:.5f}\")\n",
        "print(f\"cond(P2^-1 A) with scaling preconditioner = {cond_P2A:.5f}\")\n",
        "print(f\"cond(P3^-1 A) with the 'perfect' preconditioner (P=A) = {cond_P3A:.5f}\")\n",
        "print(\"\\nNote: A condition number close to 1 is ideal, indicating a well-conditioned matrix.\")"
      ],
      "metadata": {
        "colab": {
          "base_uri": "https://localhost:8080/"
        },
        "id": "ZHbcsNjKsYbL",
        "outputId": "e5ef5506-8161-479b-a467-a4de1b69b5d9"
      },
      "execution_count": null,
      "outputs": [
        {
          "output_type": "stream",
          "name": "stdout",
          "text": [
            "Q3: Condition numbers\n",
            "cond(A) = 14.93303\n",
            "cond(P1^-1 A) with diagonal preconditioner = 13.04836\n",
            "cond(P2^-1 A) with scaling preconditioner = 14.93303\n",
            "cond(P3^-1 A) with the 'perfect' preconditioner (P=A) = 1.00000\n",
            "\n",
            "Note: A condition number close to 1 is ideal, indicating a well-conditioned matrix.\n"
          ]
        }
      ]
    }
  ],
  "metadata": {
    "colab": {
      "provenance": [],
      "include_colab_link": true
    },
    "kernelspec": {
      "display_name": "Python 3",
      "name": "python3"
    },
    "language_info": {
      "name": "python"
    }
  },
  "nbformat": 4,
  "nbformat_minor": 0
}