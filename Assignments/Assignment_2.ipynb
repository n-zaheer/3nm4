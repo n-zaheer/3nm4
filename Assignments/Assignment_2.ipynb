{
  "cells": [
    {
      "cell_type": "markdown",
      "metadata": {
        "id": "Ws-hQdMF_eFk"
      },
      "source": [
        "# Assignment 2\n",
        "\n",
        "Due EOD Thursday Oct 2nd"
      ]
    },
    {
      "cell_type": "markdown",
      "metadata": {
        "id": "gVHY7luCuOM5"
      },
      "source": [
        "## Question 1"
      ]
    },
    {
      "cell_type": "markdown",
      "metadata": {
        "id": "tzlJgZj4ujfO"
      },
      "source": [
        "A nuclear fuel pellet is a cylinder, 1.5 cm in lenth and 1 cm in diameter. Assume the surface temperature is 300 C everywhere. Given temperature probe data below, determine the radial temperature profile in the middle of a nuclear fuel pellet (i.e.: T(r, z = 0.75)) using radial basis functions.\n"
      ]
    },
    {
      "cell_type": "code",
      "execution_count": null,
      "metadata": {
        "id": "teHBKZ4FBV1R"
      },
      "outputs": [],
      "source": [
        "import numpy as np\n",
        "\n",
        "# 20 data points presented in columns: | x | y | z | T |, measurements in cm\n",
        "\n",
        "data = np.array([\n",
        "    [5.1690e-02, 2.3766e-01, 6.7059e-01, 5.2645e+02],\n",
        "    [1.1353e-01, 9.4708e-02, 5.3856e-01, 5.5201e+02],\n",
        "    [1.6676e-01, 1.4358e-01, 4.6936e-01, 5.0802e+02],\n",
        "    [1.3610e-01, 3.7207e-02, 2.1694e-01, 4.3663e+02],\n",
        "    [8.9225e-02, 3.7293e-01, 1.1270e+00, 3.9234e+02],\n",
        "    [1.9001e-01, 3.7240e-01, 8.4774e-01, 3.8872e+02],\n",
        "    [5.4849e-02, 3.5425e-01, 5.7478e-01, 4.3784e+02],\n",
        "    [1.7001e-01, 2.0241e-01, 1.2960e+00, 4.0159e+02],\n",
        "    [2.0606e-01, 3.1594e-01, 6.4077e-01, 4.2652e+02],\n",
        "    [2.5382e-01, 2.5859e-01, 4.8610e-01, 4.2481e+02],\n",
        "    [5.6038e-02, 8.2231e-02, 4.2029e-01, 5.3244e+02],\n",
        "    [3.1242e-01, 8.0489e-02, 1.1530e+00, 4.2453e+02],\n",
        "    [6.0186e-02, 4.4891e-01, 3.9941e-01, 3.4207e+02],\n",
        "    [1.5070e-01, 3.4794e-01, 1.5595e-01, 3.4750e+02],\n",
        "    [1.8215e-01, 3.4388e-01, 1.0478e+00, 3.9963e+02],\n",
        "    [1.1633e-01, 4.1011e-01, 5.5001e-01, 3.7611e+02],\n",
        "    [1.2377e-01, 3.3703e-01, 3.7672e-02, 3.1423e+02],\n",
        "    [4.6378e-02, 3.3653e-01, 1.4434e+00, 3.2345e+02],\n",
        "    [2.9063e-02, 3.2584e-02, 2.3977e-01, 4.5993e+02],\n",
        "    [2.1162e-02, 3.8590e-01, 2.5905e-01, 3.6901e+02]\n",
        "])"
      ]
    },
    {
      "cell_type": "markdown",
      "metadata": {
        "id": "zFtqw1cq07DR"
      },
      "source": [
        "Consider what you know about this system. What extra information do you have in terms of"
      ]
    },
    {
      "cell_type": "markdown",
      "metadata": {
        "id": "Pxk1gteZGS00"
      },
      "source": [
        "### a) type(s) of symmetry?\n",
        "\n",
        "{answer}"
      ]
    },
    {
      "cell_type": "code",
      "source": [
        "hi"
      ],
      "metadata": {
        "id": "ww4QLPshAIvo"
      },
      "execution_count": null,
      "outputs": []
    },
    {
      "cell_type": "markdown",
      "metadata": {
        "id": "3Gv7EX7Baq0Y"
      },
      "source": [
        "### b) Boundary conditions?\n",
        "\n",
        "{answer}"
      ]
    },
    {
      "cell_type": "markdown",
      "metadata": {
        "id": "4rYtvWLt1My3"
      },
      "source": [
        "## c) Plot the best guess of the radial temperature profile\n",
        "\n",
        "Note: RBFs will fail with a linear solver error if two data points exactly overlap.\n",
        "\n",
        "{Method, implementation, answer, answer}"
      ]
    },
    {
      "cell_type": "markdown",
      "metadata": {
        "id": "mJ_sOFpRoAE-"
      },
      "source": [
        "# Question 2"
      ]
    },
    {
      "cell_type": "markdown",
      "metadata": {
        "id": "MJDwzhB7oBzW"
      },
      "source": [
        "You run an experiment and obtain the following data:\n",
        "\n",
        "| x | y1 | y2 | y3 | y4 | y5 |\n",
        "|---|---|---|---| --- | --- |\n",
        "| 0.00 | -29.49 | -2.14 | 15.88 | 22.69 | 28.53 |\n",
        "| 1.11 | 2.83 | 18.02 | -25.45 | -32.45 | 7.50 |\n",
        "| 2.22 | 1.97 | -10.49 | -0.18 | -32.10 | -40.31 |\n",
        "| 3.33 | -38.09 | -46.16 | -7.87 | -33.97 | -38.39 |\n",
        "| 4.44 | -3.97 | -32.22 | -33.95 | -11.07 | -32.47 |\n",
        "| 5.56 | 4.45 | -10.88 | 20.43 | 6.57 | -8.49 |\n",
        "| 6.67 | 50.22 | 51.29 | 80.02 | 66.15 | 84.90 |\n",
        "| 7.78 | 164.11 | 190.26 | 160.94 | 182.35 | 163.18 |\n",
        "| 8.89 | 331.75 | 306.51 | 278.40 | 302.13 | 335.44 |\n",
        "| 10.00 | 517.06 | 483.20 | 476.73 | 512.16 | 500.64 |\n",
        "\n"
      ]
    },
    {
      "cell_type": "code",
      "execution_count": null,
      "metadata": {
        "id": "bnHD3ChWB0Z8"
      },
      "outputs": [],
      "source": [
        "import numpy as np\n",
        "\n",
        "# Define the table as a list of lists\n",
        "d = np.array([\n",
        "    [0.00, -29.49, -2.14, 15.88, 22.69, 28.53],\n",
        "    [1.11, 2.83, 18.02, -25.45, -32.45, 7.50],\n",
        "    [2.22, 1.97, -10.49, -0.18, -32.10, -40.31],\n",
        "    [3.33, -38.09, -46.16, -7.87, -33.97, -38.39],\n",
        "    [4.44, -3.97, -32.22, -33.95, -11.07, -32.47],\n",
        "    [5.56, 4.45, -10.88, 20.43, 6.57, -8.49],\n",
        "    [6.67, 50.22, 51.29, 80.02, 66.15, 84.90],\n",
        "    [7.78, 164.11, 190.26, 160.94, 182.35, 163.18],\n",
        "    [8.89, 331.75, 306.51, 278.40, 302.13, 335.44],\n",
        "    [10.00, 517.06, 483.20, 476.73, 512.16, 500.64]\n",
        "])"
      ]
    },
    {
      "cell_type": "markdown",
      "metadata": {
        "id": "UsMadC7N4Ygy"
      },
      "source": [
        "## a) Determine the best cubic polynomial fit to this data with the uncertainty\n",
        "\n",
        "{method, implementation, answer}"
      ]
    },
    {
      "cell_type": "markdown",
      "metadata": {
        "id": "6x6oM9uQ4c54"
      },
      "source": [
        "## b) Your manager thinks this should be a quadratic. Which do you think it should be and why?\n",
        "\n",
        "{Answer}"
      ]
    }
  ],
  "metadata": {
    "colab": {
      "provenance": []
    },
    "kernelspec": {
      "display_name": "base",
      "language": "python",
      "name": "python3"
    },
    "language_info": {
      "codemirror_mode": {
        "name": "ipython",
        "version": 3
      },
      "file_extension": ".py",
      "mimetype": "text/x-python",
      "name": "python",
      "nbconvert_exporter": "python",
      "pygments_lexer": "ipython3",
      "version": "3.12.4"
    }
  },
  "nbformat": 4,
  "nbformat_minor": 0
}